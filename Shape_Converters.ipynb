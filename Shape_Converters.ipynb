{
 "cells": [
  {
   "cell_type": "code",
   "execution_count": 6,
   "metadata": {},
   "outputs": [],
   "source": [
    "# Shape Testers\n",
    "\n",
    "import networkx as nx\n",
    "import matplotlib.pyplot as plt\n",
    "from itertools import combinations"
   ]
  },
  {
   "cell_type": "code",
   "execution_count": 23,
   "metadata": {},
   "outputs": [
    {
     "name": "stdout",
     "output_type": "stream",
     "text": [
      "[[0, 3, 4, 7], [0, 1, 4, 5], [0, 1, 2, 3], [1, 2, 5, 6], [2, 3, 6, 7], [4, 5, 6, 7]]\n",
      "\n",
      "[[True, False, False, True, True, False, False, True], [True, True, False, False, True, True, False, False], [True, True, True, True, False, False, False, False], [False, True, True, False, False, True, True, False], [False, False, True, True, False, False, True, True], [False, False, False, False, True, True, True, True]]\n",
      "\n",
      "[[True, False, False, True, True, False, False, True], [True, True, False, False, True, True, False, False], [True, True, True, True, False, False, False, False], [False, True, True, False, False, True, True, False], [False, False, True, True, False, False, True, True], [False, False, False, False, True, True, True, True]]\n",
      "\n",
      "True\n"
     ]
    }
   ],
   "source": [
    "cube = [[1,0,0,1,1,0,0,1],\n",
    "        [1,1,0,0,1,1,0,0],\n",
    "        [1,1,1,1,0,0,0,0],\n",
    "        [0,1,1,0,0,1,1,0],\n",
    "        [0,0,1,1,0,0,1,1],\n",
    "        [0,0,0,0,1,1,1,1]]\n",
    "\n",
    "#test bool -> int array (like is provided by Dr.)\n",
    "int_cube = FR_bool_to_FR_matrix(cube)\n",
    "print(int_cube)\n",
    "print()\n",
    "\n",
    "#test the reverse of above\n",
    "bool_cube = FR_matrix_to_FR_bool(int_cube)\n",
    "print(bool_cube)\n",
    "print()\n",
    "\n",
    "#test int_bool (maybe I don't need this one at all)\n",
    "bool_cube2 = FR_intbool_to_FR_bool(cube)\n",
    "print(bool_cube2)\n",
    "print()\n",
    "\n",
    "#ensure they end in the same place\n",
    "print(bool_cube == bool_cube)\n"
   ]
  },
  {
   "cell_type": "code",
   "execution_count": 24,
   "metadata": {},
   "outputs": [],
   "source": [
    "#can take an intbool matrix, or a true bool matrix.\n",
    "#returns 0-indexed matrix in the form that Dr. {} gave us\n",
    "def FR_bool_to_FR_matrix(shape):\n",
    "    out = []\n",
    "    for face in range(len(shape)):\n",
    "        out.append([])\n",
    "        for vertex in range(len(shape[0])):\n",
    "            if shape[face][vertex]:\n",
    "                out[face].append(vertex)    \n",
    "    return out"
   ]
  },
  {
   "cell_type": "code",
   "execution_count": 19,
   "metadata": {},
   "outputs": [],
   "source": [
    "#TODO handle zeroFlag re-indexing? probably not\n",
    "def FR_matrix_to_FR_bool(shape):\n",
    "    zeroFlag = False\n",
    "    maxInt = -1\n",
    "    \n",
    "    #get size of shape and if its 0-indexed\n",
    "    for row in range(len(shape)):\n",
    "        for vertex in shape[row]:\n",
    "            if vertex > maxInt:\n",
    "                maxInt = vertex\n",
    "            if vertex == 0:\n",
    "                zeroFlag = True\n",
    "    \n",
    "    vertexRange = maxInt + zeroFlag\n",
    "    \n",
    "    #make base array, filled with false\n",
    "    out = [ [False for j in range(vertexRange)] for i in range(len(shape)) ]\n",
    "    \n",
    "    #fill array with 'trues'\n",
    "    for row in range(len(shape)):\n",
    "        for vertex in shape[row]:\n",
    "            out[row][vertex] = True\n",
    "            \n",
    "    return out"
   ]
  },
  {
   "cell_type": "code",
   "execution_count": 22,
   "metadata": {},
   "outputs": [],
   "source": [
    "# Helper function to transform 1s to True, 0s to False\n",
    "#likely not nessecary. \n",
    "def intbool_to_bool(shape):\n",
    "    out = []\n",
    "    for row in shape:\n",
    "        out.append([])\n",
    "        for cell in row:\n",
    "            out[-1].append( bool(cell) )\n",
    "    return out\n",
    "\n",
    "def bool_to_intbool(shape):\n",
    "    out = []\n",
    "    for row in shape:\n",
    "        out.append([])\n",
    "        for cell in row:\n",
    "            out[-1].append( int(cell) )\n",
    "    return out"
   ]
  },
  {
   "cell_type": "code",
   "execution_count": 6,
   "metadata": {},
   "outputs": [],
   "source": [
    "# To convert from 0-indexing to 1 based indexing, i.e. how Dr. gave us.\n",
    "def int_matrix_increment(shape):\n",
    "    for row in shape:\n",
    "        for vertex in shape:\n",
    "            vertex += 1\n",
    "\n",
    "# To aligns the numbers to match with 0-indexing, from Dr. 's files\n",
    "def int_matrix_decrement(shape):\n",
    "    for row in shape:\n",
    "        for vertex in shape:\n",
    "            vertex -= 1"
   ]
  },
  {
   "cell_type": "code",
   "execution_count": null,
   "metadata": {},
   "outputs": [],
   "source": []
  }
 ],
 "metadata": {
  "kernelspec": {
   "display_name": "Python 3",
   "language": "python",
   "name": "python3"
  },
  "language_info": {
   "codemirror_mode": {
    "name": "ipython",
    "version": 3
   },
   "file_extension": ".py",
   "mimetype": "text/x-python",
   "name": "python",
   "nbconvert_exporter": "python",
   "pygments_lexer": "ipython3",
   "version": "3.6.5"
  }
 },
 "nbformat": 4,
 "nbformat_minor": 2
}
