{
 "cells": [
  {
   "cell_type": "markdown",
   "id": "ce951f3a",
   "metadata": {},
   "source": [
    "# Notes for next work"
   ]
  },
  {
   "cell_type": "code",
   "execution_count": 1,
   "id": "986e3fb8",
   "metadata": {},
   "outputs": [],
   "source": [
    "##NOTES\n",
    "\n",
    "## This all runs on the assumptions that the \"closest tiebreaker\" is sound for hitting a minimal cover.\n",
    "## That could be the math portion of the capstone, talk to Dr. B\n",
    "## Inherently, the choose next vertex has a secondary tiebreaker of smallest label instead of randomly picking from\n",
    "##     minimized distance. Probaly should change.\n",
    "\n",
    "\n",
    "## Ask Dr B for smaller solved 4d solids\n",
    "\n",
    "\n",
    "## For 600 - cell\n",
    "## "
   ]
  },
  {
   "cell_type": "markdown",
   "id": "6e80b810",
   "metadata": {},
   "source": [
    "# Theory and Thought process"
   ]
  },
  {
   "cell_type": "code",
   "execution_count": 2,
   "id": "6a160299",
   "metadata": {},
   "outputs": [],
   "source": [
    "##Idea that faces touched is = edges vertex is on, seems to hold for all 3d platonic solids\n",
    "    ## How to find every vertex that shares an edge, used here and in distance calculation\n",
    "        ## Shares an edge if they share 2 or more faces\n",
    "        ## How to find shared faces\n",
    "## Just brute forcing through the faces listings in the inputMatrix works, but can be super slow\n",
    "    ##For 600-face, around 200,000 actions, 2.5 to find certain vertex in face, scan 600 faces for \n",
    "    ##    first vertex, then that subset for second vertex (20), then 120 vertices\n",
    "## Binary matrix probably easier, less searching\n",
    "    ## Would just find each face that has the first vertex, then find each that has 2nd in that subset\n",
    "        ## 600, then 20, by 120? Down below 100,000 actions\n",
    "    ## Around 2 or 3 times faster\n",
    "    \n",
    "## Calculate distance of vertices to faces\n",
    "    ## Find distance from a certain vertex to all vertices on a face, take minimum\n",
    "    ## Needs to be upfront, not on call\n",
    "    ## 1 unit away = shares an edge with a vertex on the face\n",
    "        ## Share an edge if they share more than 1 face (ASK DR B IF THIS IS TRUE)**********************************\n",
    "    ## 2 units away = shares an edge with a vertex that is 1 unit away from the face\n",
    "    ## Need to use a path finding algorithm to find minimal distance from each vertex to each other vertex\n",
    "        ## Ew, thats a ton of computation\n",
    "    ## Store how?\n",
    "        ## Could be a 2d array with an int value for number of edges away\n",
    "            #rows, cols = (maxVert, maxVert)\n",
    "            #print (rows, cols)\n",
    "            #vertexListOfTouchingFaces = [[0 for i in range(cols)] for j in range(rows)]\n",
    "            #print (vertexListOfTouchingFaces)\n",
    "        ## Could be a 2d array where the cells are lists of vertices that are a certain distance away\n",
    "        ## If just using vertex to vertex and doing multiple search per face instead of computations, should\n",
    "        ##   probably use the first one\n",
    "        ## Ex: d4\n",
    "        ##   1 2 3 4\n",
    "        ## 1 0 1 1 1\n",
    "        ## 2 1 0 1 1\n",
    "        ## 3 1 1 0 1\n",
    "        ## 4 1 1 1 0\n",
    "        \n",
    "        ## Ex: d6\n",
    "        ##   1 2 3 4 5 6 7 8\n",
    "        ## 1 0 1 2 1 1 2 3 2\n",
    "        ## 2 1 0 1 2 2 1 2 3 \n",
    "        ## 3 2 1 0 1 3 2 1 2\n",
    "        ## 4 1 2 1 0 2 3 2 1\n",
    "        ## 5 1 2 3 2 0 1 2 1\n",
    "        ## 6 2 1 2 3 1 0 1 2\n",
    "        ## 7 3 2 1 2 2 1 0 1\n",
    "        ## 8 2 3 2 1 1 2 1 0\n",
    "        \n",
    "        ## Ex: d8\n",
    "        ##   1 2 3 4 5 6\n",
    "        ## 1 0 1 1 1 1 2\n",
    "        ## 2 1 0 1 2 1 1\n",
    "        ## 3 1 1 0 1 2 1\n",
    "        ## 4 1 2 1 0 1 1\n",
    "        ## 5 1 1 2 1 0 1\n",
    "        ## 6 2 1 1 1 1 0\n",
    "        \n",
    "        ## These matrices should always be symmetric on diagonal\n",
    "        \n",
    "        ## Filling these out would be like a tree, make the identity 0, fill out everything thats 1 away,\n",
    "        ## Fill out everything 2 away, so on\n",
    "        ## Finding stuff 2 away, find everything 1 away from vertices already 1 away, excluding what's already listed\n",
    "        ## ............. 3 ..................... 1 .......................... 2 .....................................\n",
    "        \n",
    "        \n",
    "        ## This means the creation of this matrix won't be row by row completely\n",
    "        ## Easier to go row by row hitting everything 1 away, then row by row hitting everything 2 away\n",
    "            ## Do this since for 2 away, need info of whats 1 away from every other vertex\n",
    "            ## Read from notebook if can't visualize"
   ]
  },
  {
   "cell_type": "markdown",
   "id": "66c6f1f8",
   "metadata": {},
   "source": [
    "# Imports"
   ]
  },
  {
   "cell_type": "code",
   "execution_count": 3,
   "id": "82aff316",
   "metadata": {},
   "outputs": [],
   "source": [
    "##IMPORTS\n",
    "import numpy as np\n",
    "from numpy import *\n",
    "import copy"
   ]
  },
  {
   "cell_type": "markdown",
   "id": "8131c155",
   "metadata": {},
   "source": [
    "# Take in or create input"
   ]
  },
  {
   "cell_type": "code",
   "execution_count": 4,
   "id": "cfb891af",
   "metadata": {},
   "outputs": [
    {
     "name": "stdout",
     "output_type": "stream",
     "text": [
      "[[ 1  2  3 10]\n",
      " [ 2  3  4 11]\n",
      " [ 3  4  5 12]\n",
      " [ 4  5  6 13]\n",
      " [ 5  6  7 14]\n",
      " [ 6  7  8 15]\n",
      " [ 1  7  8 16]\n",
      " [ 1  2  8  9]\n",
      " [ 1  2 11 16]\n",
      " [ 2  3  9 12]\n",
      " [ 3  4 10 13]\n",
      " [ 4  5 11 14]\n",
      " [ 5  6 12 15]\n",
      " [ 6  7 13 16]\n",
      " [ 7  8  9 14]\n",
      " [ 1  8 10 15]\n",
      " [ 1 10 13 16]\n",
      " [ 2  9 11 14]\n",
      " [ 3 10 12 15]\n",
      " [ 4 11 13 16]\n",
      " [ 5  9 12 14]\n",
      " [ 6 10 13 15]\n",
      " [ 7 11 14 16]\n",
      " [ 8  9 12 15]]\n"
     ]
    }
   ],
   "source": [
    "\n",
    "## FOR THE BIG 600 CELL ONE\n",
    "import csv\n",
    "\n",
    "#with open(\"UseThisOne.csv\") as file_name:\n",
    "    #inputMatrix = np.loadtxt(file_name, dtype = 'int', delimiter=\",\")\n",
    "\n",
    "    \n",
    "## FOR SMALLER TESTING SOLIDS\n",
    "inputMatrix = array([[1,2,3,10],\n",
    "               [2,3,4,11],\n",
    "               [3,4,5,12],\n",
    "               [4,5,6,13],\n",
    "               [5,6,7,14],\n",
    "               [6,7,8,15],\n",
    "               [1,7,8,16],\n",
    "               [1,2,8,9],\n",
    "               [1,2,11,16],\n",
    "               [2,3,9,12],\n",
    "               [3,4,10,13],\n",
    "               [4,5,11,14],\n",
    "               [5,6,12,15],\n",
    "               [6,7,13,16],\n",
    "               [7,8,9,14],\n",
    "               [1,8,10,15],\n",
    "               [1,10,13,16],\n",
    "               [2,9,11,14],\n",
    "               [3,10,12,15],\n",
    "               [4,11,13,16],\n",
    "               [5,9,12,14],\n",
    "               [6,10,13,15],\n",
    "               [7,11,14,16],\n",
    "               [8,9,12,15],\n",
    "               \n",
    "              ])\n",
    "\n",
    "    \n",
    "print(inputMatrix)\n"
   ]
  },
  {
   "cell_type": "markdown",
   "id": "4a98205a",
   "metadata": {},
   "source": [
    "# Find total number of vertices"
   ]
  },
  {
   "cell_type": "code",
   "execution_count": 5,
   "id": "ad19452c",
   "metadata": {},
   "outputs": [
    {
     "name": "stdout",
     "output_type": "stream",
     "text": [
      "16\n"
     ]
    }
   ],
   "source": [
    "## Find number of vertices\n",
    "inputMatrixWidth= len(inputMatrix[0])\n",
    "maxVert = 0\n",
    "for x in inputMatrix:\n",
    "    if x[inputMatrixWidth-1] > maxVert:\n",
    "        maxVert = x[inputMatrixWidth-1]\n",
    "\n",
    "print(maxVert)"
   ]
  },
  {
   "cell_type": "markdown",
   "id": "ad7e5d70",
   "metadata": {},
   "source": [
    "# Create master array for which faces have and haven't been covered"
   ]
  },
  {
   "cell_type": "code",
   "execution_count": 6,
   "id": "f16f2868",
   "metadata": {},
   "outputs": [
    {
     "name": "stdout",
     "output_type": "stream",
     "text": [
      "[[ 1  2  3 10]\n",
      " [ 2  3  4 11]\n",
      " [ 3  4  5 12]\n",
      " [ 4  5  6 13]\n",
      " [ 5  6  7 14]\n",
      " [ 6  7  8 15]\n",
      " [ 1  7  8 16]\n",
      " [ 1  2  8  9]\n",
      " [ 1  2 11 16]\n",
      " [ 2  3  9 12]\n",
      " [ 3  4 10 13]\n",
      " [ 4  5 11 14]\n",
      " [ 5  6 12 15]\n",
      " [ 6  7 13 16]\n",
      " [ 7  8  9 14]\n",
      " [ 1  8 10 15]\n",
      " [ 1 10 13 16]\n",
      " [ 2  9 11 14]\n",
      " [ 3 10 12 15]\n",
      " [ 4 11 13 16]\n",
      " [ 5  9 12 14]\n",
      " [ 6 10 13 15]\n",
      " [ 7 11 14 16]\n",
      " [ 8  9 12 15]]\n",
      "\n",
      "[[-1, -1, -1, -1]]\n"
     ]
    }
   ],
   "source": [
    "## Create Master Array of Uncovered Faces\n",
    "## Will be removed from throughout process\n",
    "masterUncoveredFaces = copy.deepcopy(inputMatrix)\n",
    "print(masterUncoveredFaces)\n",
    "print(\"\")\n",
    "\n",
    "##Create Master Array for covered faces, starts empty, fills to be inputMatrix\n",
    "\n",
    "rows, cols = (1, inputMatrixWidth)\n",
    "masterCoveredFaces = [[-1 for i in range(cols)] for j in range(rows)]\n",
    "#print(vertexToVertexDistance)\n",
    "\n",
    "\n",
    "print(masterCoveredFaces)"
   ]
  },
  {
   "cell_type": "markdown",
   "id": "affced93",
   "metadata": {},
   "source": [
    "# Creating the Dictionary of each face that touches each vertex"
   ]
  },
  {
   "cell_type": "code",
   "execution_count": 7,
   "id": "1cb550e7",
   "metadata": {},
   "outputs": [
    {
     "name": "stdout",
     "output_type": "stream",
     "text": [
      "{1: [array([ 1,  2,  3, 10]), array([ 1,  7,  8, 16]), array([1, 2, 8, 9]), array([ 1,  2, 11, 16]), array([ 1,  8, 10, 15]), array([ 1, 10, 13, 16])], 2: [array([ 1,  2,  3, 10]), array([ 2,  3,  4, 11]), array([1, 2, 8, 9]), array([ 1,  2, 11, 16]), array([ 2,  3,  9, 12]), array([ 2,  9, 11, 14])], 3: [array([ 1,  2,  3, 10]), array([ 2,  3,  4, 11]), array([ 3,  4,  5, 12]), array([ 2,  3,  9, 12]), array([ 3,  4, 10, 13]), array([ 3, 10, 12, 15])], 4: [array([ 2,  3,  4, 11]), array([ 3,  4,  5, 12]), array([ 4,  5,  6, 13]), array([ 3,  4, 10, 13]), array([ 4,  5, 11, 14]), array([ 4, 11, 13, 16])], 5: [array([ 3,  4,  5, 12]), array([ 4,  5,  6, 13]), array([ 5,  6,  7, 14]), array([ 4,  5, 11, 14]), array([ 5,  6, 12, 15]), array([ 5,  9, 12, 14])], 6: [array([ 4,  5,  6, 13]), array([ 5,  6,  7, 14]), array([ 6,  7,  8, 15]), array([ 5,  6, 12, 15]), array([ 6,  7, 13, 16]), array([ 6, 10, 13, 15])], 7: [array([ 5,  6,  7, 14]), array([ 6,  7,  8, 15]), array([ 1,  7,  8, 16]), array([ 6,  7, 13, 16]), array([ 7,  8,  9, 14]), array([ 7, 11, 14, 16])], 8: [array([ 6,  7,  8, 15]), array([ 1,  7,  8, 16]), array([1, 2, 8, 9]), array([ 7,  8,  9, 14]), array([ 1,  8, 10, 15]), array([ 8,  9, 12, 15])], 9: [array([1, 2, 8, 9]), array([ 2,  3,  9, 12]), array([ 7,  8,  9, 14]), array([ 2,  9, 11, 14]), array([ 5,  9, 12, 14]), array([ 8,  9, 12, 15])], 10: [array([ 1,  2,  3, 10]), array([ 3,  4, 10, 13]), array([ 1,  8, 10, 15]), array([ 1, 10, 13, 16]), array([ 3, 10, 12, 15]), array([ 6, 10, 13, 15])], 11: [array([ 2,  3,  4, 11]), array([ 1,  2, 11, 16]), array([ 4,  5, 11, 14]), array([ 2,  9, 11, 14]), array([ 4, 11, 13, 16]), array([ 7, 11, 14, 16])], 12: [array([ 3,  4,  5, 12]), array([ 2,  3,  9, 12]), array([ 5,  6, 12, 15]), array([ 3, 10, 12, 15]), array([ 5,  9, 12, 14]), array([ 8,  9, 12, 15])], 13: [array([ 4,  5,  6, 13]), array([ 3,  4, 10, 13]), array([ 6,  7, 13, 16]), array([ 1, 10, 13, 16]), array([ 4, 11, 13, 16]), array([ 6, 10, 13, 15])], 14: [array([ 5,  6,  7, 14]), array([ 4,  5, 11, 14]), array([ 7,  8,  9, 14]), array([ 2,  9, 11, 14]), array([ 5,  9, 12, 14]), array([ 7, 11, 14, 16])], 15: [array([ 6,  7,  8, 15]), array([ 5,  6, 12, 15]), array([ 1,  8, 10, 15]), array([ 3, 10, 12, 15]), array([ 6, 10, 13, 15]), array([ 8,  9, 12, 15])], 16: [array([ 1,  7,  8, 16]), array([ 1,  2, 11, 16]), array([ 6,  7, 13, 16]), array([ 1, 10, 13, 16]), array([ 4, 11, 13, 16]), array([ 7, 11, 14, 16])]}\n",
      "[array([ 1,  2,  3, 10]), array([ 1,  7,  8, 16]), array([1, 2, 8, 9]), array([ 1,  2, 11, 16]), array([ 1,  8, 10, 15]), array([ 1, 10, 13, 16])]\n",
      "6\n"
     ]
    }
   ],
   "source": [
    "## Create list of faces touched by each vertex, as well as copy for strictly uncovered\n",
    "\n",
    "## How to know how many faces each vertex will touch? **************************\n",
    "    ## For platonic solid, equal for all, so find max faces for one, for all\n",
    "    ## Just make it a dictionary, probably better\n",
    "\n",
    "vertexDictOfTouchedFaces = {\n",
    "    \n",
    "}\n",
    "\n",
    "for nextVertex in range(maxVert):\n",
    "    vertexDictOfTouchedFaces[nextVertex+1] = []\n",
    "    \n",
    "## Fill in the dictionary\n",
    "for currentFace in inputMatrix:\n",
    "    for currentVertex in currentFace:\n",
    "            vertexDictOfTouchedFaces[currentVertex].append(currentFace)\n",
    "            \n",
    "print(vertexDictOfTouchedFaces)\n",
    "\n",
    "\n",
    "##Create the dictionary for each uncovered face, will be removed from throughout the process\n",
    "vertexDictOfTouchingUncoveredFaces = copy.deepcopy(vertexDictOfTouchedFaces)\n",
    "\n",
    "print(vertexDictOfTouchedFaces[1])\n",
    "print(len(vertexDictOfTouchedFaces[1]))\n",
    "    \n",
    "\n",
    "    "
   ]
  },
  {
   "cell_type": "markdown",
   "id": "7b9ff168",
   "metadata": {},
   "source": [
    "# Create Dictionary Of Which Vertices a Single Vertex shares edges with"
   ]
  },
  {
   "cell_type": "code",
   "execution_count": 8,
   "id": "63e4f653",
   "metadata": {},
   "outputs": [
    {
     "name": "stdout",
     "output_type": "stream",
     "text": [
      "{1: [2, 8, 16, 10], 2: [3, 1, 11, 9], 3: [2, 4, 12, 10], 4: [3, 5, 13, 11], 5: [4, 6, 14, 12], 6: [5, 7, 15, 13], 7: [6, 8, 16, 14], 8: [7, 1, 9, 15], 9: [2, 8, 14, 12], 10: [3, 1, 13, 15], 11: [2, 4, 14, 16], 12: [3, 5, 15, 9], 13: [4, 6, 10, 16], 14: [5, 7, 9, 11], 15: [6, 8, 10, 12], 16: [1, 7, 13, 11]}\n",
      "{1: [2, 8, 16, 10], 2: [3, 1, 11, 9], 3: [2, 4, 12, 10], 4: [3, 5, 13, 11], 5: [4, 6, 14, 12], 6: [5, 7, 15, 13], 7: [6, 8, 16, 14], 8: [7, 1, 9, 15], 9: [2, 8, 14, 12], 10: [3, 1, 13, 15], 11: [2, 4, 14, 16], 12: [3, 5, 15, 9], 13: [4, 6, 10, 16], 14: [5, 7, 9, 11], 15: [6, 8, 10, 12], 16: [1, 7, 13, 11]}\n"
     ]
    }
   ],
   "source": [
    "##Create something that stores every vertex, and each other vertex it shares an edge with\n",
    "    ## shares edge if it shares 2 faces\n",
    "    ##Look in vertexDictOfTouchedFaces, keep count of each time each vertex appears. If > 1 and not the original, edge\n",
    "##What to store in, dict doesn't seem to be working well, hard with arrays as values\n",
    "    ## Dict for now\n",
    "    \n",
    "vertexDictOfSharedEdges = {}\n",
    "\n",
    "for nextVertex in range(maxVert):\n",
    "    vertexDictOfSharedEdges[nextVertex+1] = []\n",
    "\n",
    "vertexDictOfVerticesOnEdge = {    \n",
    "}\n",
    "\n",
    "for nextVertex in range(maxVert):\n",
    "    vertexDictOfVerticesOnEdge[nextVertex+1] = []\n",
    "\n",
    "rows, cols = (maxVert, maxVert)\n",
    "vertexSharedFacesCount = [[0 for i in range(cols)] for j in range(rows)]\n",
    "#print(len(vertexSharedFacesCount)*len(vertexSharedFacesCount[0]))\n",
    "\n",
    "\n",
    "\n",
    "for currentVertex in vertexDictOfTouchedFaces:\n",
    "    \n",
    "    #print(currentVertex, vertexDictOfTouchedFaces[currentVertex])\n",
    "    for currentFace in vertexDictOfTouchedFaces[currentVertex]:\n",
    "        for vertexOnFace in currentFace:\n",
    "            vertexSharedFacesCount[currentVertex-1][vertexOnFace-1] += 1\n",
    "            \n",
    "            ## This if statement is the problem, assumes points only connect on 2 faces\n",
    "                ## Or maybe not\n",
    "            \n",
    "            if vertexSharedFacesCount[currentVertex-1][vertexOnFace-1] > 1 and vertexOnFace not in vertexDictOfSharedEdges[currentVertex]:\n",
    "                    if vertexOnFace != currentVertex:\n",
    "                        vertexDictOfSharedEdges[currentVertex].append(vertexOnFace)\n",
    "    \n",
    "    ##PUT THIS INSIDE LOOP ABOVE, SO TO ACCESS THE VALUE OF vertexOnFace\n",
    "    ## Also, use number of faces each vertex is on to eliminate vertices pairing with self\n",
    "    ##for x in vertexSharedFacesCount[currentVertex-1]:\n",
    "        ##if x > 1:\n",
    "            ##print(x, currentVertex)\n",
    "            \n",
    "\n",
    "\n",
    "#print(vertexSharedFacesCount)\n",
    "#print(vertexDictOfSharedEdges)\n",
    "\n",
    "tempVertexDictOfSharedEdges = copy.deepcopy(vertexDictOfSharedEdges)\n",
    "#print(tempVertexDictOfSharedEdges)\n",
    "\n",
    "#Once this removes an element from the dictionary, it doesn't check the next value. use temp dictionary\n",
    "for currentVertex in vertexDictOfSharedEdges:\n",
    "    for connectedVertex in vertexDictOfSharedEdges[currentVertex]:\n",
    "        #print(currentVertex, connectedVertex)\n",
    "        if connectedVertex == currentVertex:\n",
    "            tempVertexDictOfSharedEdges[currentVertex].remove(connectedVertex)\n",
    "            #print(\"removed\", connectedVertex)\n",
    "            \n",
    "print(vertexDictOfSharedEdges)\n",
    "\n",
    "vertexDictOfSharedEdges = copy.deepcopy(tempVertexDictOfSharedEdges)\n",
    "    \n",
    "print(vertexDictOfSharedEdges)  \n",
    "\n"
   ]
  },
  {
   "cell_type": "markdown",
   "id": "3601e73c",
   "metadata": {},
   "source": [
    "# Fill out matrix of vertex to vertex distances"
   ]
  },
  {
   "cell_type": "code",
   "execution_count": 9,
   "id": "0d92ccb3",
   "metadata": {},
   "outputs": [
    {
     "name": "stdout",
     "output_type": "stream",
     "text": [
      "[[0, 1, 2, 3, 4, 3, 2, 1, 2, 1, 2, 3, 2, 3, 2, 1], [1, 0, 1, 2, 3, 4, 3, 2, 1, 2, 1, 2, 3, 2, 3, 2], [2, 1, 0, 1, 2, 3, 4, 3, 2, 1, 2, 1, 2, 3, 2, 3], [3, 2, 1, 0, 1, 2, 3, 4, 3, 2, 1, 2, 1, 2, 3, 2], [4, 3, 2, 1, 0, 1, 2, 3, 2, 3, 2, 1, 2, 1, 2, 3], [3, 4, 3, 2, 1, 0, 1, 2, 3, 2, 3, 2, 1, 2, 1, 2], [2, 3, 4, 3, 2, 1, 0, 1, 2, 3, 2, 3, 2, 1, 2, 1], [1, 2, 3, 4, 3, 2, 1, 0, 1, 2, 3, 2, 3, 2, 1, 2], [2, 1, 2, 3, 2, 3, 2, 1, 0, 3, 2, 1, 4, 1, 2, 3], [1, 2, 1, 2, 3, 2, 3, 2, 3, 0, 3, 2, 1, 4, 1, 2], [2, 1, 2, 1, 2, 3, 2, 3, 2, 3, 0, 3, 2, 1, 4, 1], [3, 2, 1, 2, 1, 2, 3, 2, 1, 2, 3, 0, 3, 2, 1, 4], [2, 3, 2, 1, 2, 1, 2, 3, 4, 1, 2, 3, 0, 3, 2, 1], [3, 2, 3, 2, 1, 2, 1, 2, 1, 4, 1, 2, 3, 0, 3, 2], [2, 3, 2, 3, 2, 1, 2, 1, 2, 1, 4, 1, 2, 3, 0, 3], [1, 2, 3, 2, 3, 2, 1, 2, 3, 2, 1, 4, 1, 2, 3, 0]]\n",
      "[[0, 1, 2, 3, 4, 3, 2, 1, 2, 1, 2, 3, 2, 3, 2, 1], [1, 0, 1, 2, 3, 4, 3, 2, 1, 2, 1, 2, 3, 2, 3, 2], [2, 1, 0, 1, 2, 3, 4, 3, 2, 1, 2, 1, 2, 3, 2, 3], [3, 2, 1, 0, 1, 2, 3, 4, 3, 2, 1, 2, 1, 2, 3, 2], [4, 3, 2, 1, 0, 1, 2, 3, 2, 3, 2, 1, 2, 1, 2, 3], [3, 4, 3, 2, 1, 0, 1, 2, 3, 2, 3, 2, 1, 2, 1, 2], [2, 3, 4, 3, 2, 1, 0, 1, 2, 3, 2, 3, 2, 1, 2, 1], [1, 2, 3, 4, 3, 2, 1, 0, 1, 2, 3, 2, 3, 2, 1, 2], [2, 1, 2, 3, 2, 3, 2, 1, 0, 3, 2, 1, 4, 1, 2, 3], [1, 2, 1, 2, 3, 2, 3, 2, 3, 0, 3, 2, 1, 4, 1, 2], [2, 1, 2, 1, 2, 3, 2, 3, 2, 3, 0, 3, 2, 1, 4, 1], [3, 2, 1, 2, 1, 2, 3, 2, 1, 2, 3, 0, 3, 2, 1, 4], [2, 3, 2, 1, 2, 1, 2, 3, 4, 1, 2, 3, 0, 3, 2, 1], [3, 2, 3, 2, 1, 2, 1, 2, 1, 4, 1, 2, 3, 0, 3, 2], [2, 3, 2, 3, 2, 1, 2, 1, 2, 1, 4, 1, 2, 3, 0, 3], [1, 2, 3, 2, 3, 2, 1, 2, 3, 2, 1, 4, 1, 2, 3, 0]]\n"
     ]
    }
   ],
   "source": [
    "rows, cols = (maxVert, maxVert)\n",
    "vertexToVertexDistance = [[999 for i in range(cols)] for j in range(rows)]\n",
    "#print(vertexToVertexDistance)\n",
    "\n",
    "for i in range(0,maxVert):\n",
    "    vertexToVertexDistance[i][i] = 0\n",
    "\n",
    "#print( vertexToVertexDistance)\n",
    "\n",
    "edgesAway = 1\n",
    "\n",
    "while np.amax(vertexToVertexDistance) == 999:\n",
    "    for vertex in vertexDictOfSharedEdges:\n",
    "        for secondVertex in vertexDictOfSharedEdges:\n",
    "            if vertexToVertexDistance[vertex-1][secondVertex-1] == edgesAway-1:\n",
    "                #print(secondVertex, \" is \", edgesAway, \" away\")\n",
    "                for vertXAway in vertexDictOfSharedEdges[secondVertex]:\n",
    "                    if vertexToVertexDistance[vertex-1][vertXAway-1] == 999:\n",
    "                        vertexToVertexDistance[vertex-1][vertXAway-1] = edgesAway\n",
    "    edgesAway += 1\n",
    "print(vertexToVertexDistance)\n",
    "\n",
    "print(vertexToVertexDistance)\n",
    "#print(np.amax(vertexToVertexDistance))"
   ]
  },
  {
   "cell_type": "markdown",
   "id": "3d0b2b5b",
   "metadata": {},
   "source": [
    "# Calculate the distance from each maxUntouchedVertex to a covered face"
   ]
  },
  {
   "cell_type": "code",
   "execution_count": 10,
   "id": "37350d97",
   "metadata": {},
   "outputs": [],
   "source": [
    "## Create function for running calucations on each vertex in an input list\n",
    "## Simply returns which of the input vertices is closest\n",
    "\n",
    "## Premake the matrix of distances\n",
    "\n",
    "## When called, search through covered faces\n",
    "## Pull out every vertex in the covered faces sets\n",
    "\n",
    "## For each maxUntouchedVertex, find distance each vertex in covered faces sets, take min\n",
    "## Store min as distance from covered faces\n",
    "\n",
    "## Find maxUntouchedVertex with smallest distance from covered faces\n",
    "\n",
    "## Return that maxUntouchedVertex\n",
    "\n",
    "def findNextVertex(listOfMaxedFaceVerts):\n",
    "    \n",
    "    ## Fill out all vert touching a covered face\n",
    "    verticesTouchingCoveredFaces = []\n",
    "    for coveredFace in masterCoveredFaces:\n",
    "        for vertex in coveredFace:\n",
    "            if vertex not in verticesTouchingCoveredFaces:\n",
    "                #print( vertex, \"isn't in verticesTouchingCoveredFaces\")\n",
    "                verticesTouchingCoveredFaces.append(vertex)\n",
    "                #print(\"verticesTouchingCoveredFaces is now \", verticesTouchingCoveredFaces)\n",
    "    dictOfMaxedVertDistanceToFace = {}            \n",
    "    for vertex in maxUntouchedVerts:\n",
    "        dictOfMaxedVertDistanceToFace[vertex] = []\n",
    "        closestDistance = 999999\n",
    "        for vertOnFace in verticesTouchingCoveredFaces:\n",
    "            if vertexToVertexDistance[vertex-1][vertOnFace -1] < closestDistance:\n",
    "                closestDistance = vertexToVertexDistance[vertex-1][vertOnFace -1]\n",
    "        #print(vertex, closestDistance)\n",
    "        dictOfMaxedVertDistanceToFace[vertex] = closestDistance\n",
    "            \n",
    "        \n",
    "    #print(dictOfMaxedVertDistanceToFace)\n",
    "\n",
    "    ## Find maxUntouchedVertex with smallest distance from covered faces\n",
    "    closestVert = 9999\n",
    "    closestVertDist = 9999\n",
    "    \n",
    "    for vertex in dictOfMaxedVertDistanceToFace:\n",
    "        if dictOfMaxedVertDistanceToFace[vertex] < closestVertDist:\n",
    "            closestVert = vertex\n",
    "            closestVertDist = dictOfMaxedVertDistanceToFace[vertex]\n",
    "            #print(\"New closest is \", vertex)\n",
    "    return(closestVert)"
   ]
  },
  {
   "cell_type": "markdown",
   "id": "9a445eca",
   "metadata": {},
   "source": [
    "# Randomly select starting vertex"
   ]
  },
  {
   "cell_type": "code",
   "execution_count": 11,
   "id": "8fdf0939",
   "metadata": {},
   "outputs": [
    {
     "name": "stdout",
     "output_type": "stream",
     "text": [
      "16\n"
     ]
    }
   ],
   "source": [
    "## Select Random Starting vertex\n",
    "startingVertex = random.randint(1,maxVert+1)\n",
    "lastVisitedVertex = copy.deepcopy(startingVertex)\n",
    "print(startingVertex)"
   ]
  },
  {
   "cell_type": "markdown",
   "id": "1bd4cfcc",
   "metadata": {},
   "source": [
    "# Add current vertex to solution set"
   ]
  },
  {
   "cell_type": "code",
   "execution_count": 12,
   "id": "d2cd5351",
   "metadata": {},
   "outputs": [
    {
     "name": "stdout",
     "output_type": "stream",
     "text": [
      "[16]\n"
     ]
    }
   ],
   "source": [
    "## Add vertex to a solution attempt\n",
    "solutionVertices = list()\n",
    "solutionVertices.append(lastVisitedVertex)\n",
    "print(solutionVertices)"
   ]
  },
  {
   "cell_type": "code",
   "execution_count": 13,
   "id": "2b8e63ac",
   "metadata": {},
   "outputs": [
    {
     "data": {
      "text/plain": [
       "[array([ 1,  7,  8, 16]),\n",
       " array([ 1,  2, 11, 16]),\n",
       " array([ 6,  7, 13, 16]),\n",
       " array([ 1, 10, 13, 16]),\n",
       " array([ 4, 11, 13, 16]),\n",
       " array([ 7, 11, 14, 16])]"
      ]
     },
     "execution_count": 13,
     "metadata": {},
     "output_type": "execute_result"
    }
   ],
   "source": [
    "vertexDictOfTouchedFaces[lastVisitedVertex]"
   ]
  },
  {
   "cell_type": "markdown",
   "id": "0b182aef",
   "metadata": {},
   "source": [
    "# Processes Faces Touched by current vertex\n",
    "# Counts faces as covered for master array\n",
    "# Removes face from each vertex's untouched faces dictionary"
   ]
  },
  {
   "cell_type": "code",
   "execution_count": 14,
   "id": "36bbe64e",
   "metadata": {},
   "outputs": [
    {
     "name": "stdout",
     "output_type": "stream",
     "text": [
      "{1: array([[ 1,  2,  3, 10],\n",
      "       [ 1,  2,  8,  9],\n",
      "       [ 1,  8, 10, 15]]), 2: array([[ 1,  2,  3, 10],\n",
      "       [ 2,  3,  4, 11],\n",
      "       [ 1,  2,  8,  9],\n",
      "       [ 2,  3,  9, 12],\n",
      "       [ 2,  9, 11, 14]]), 3: array([[ 1,  2,  3, 10],\n",
      "       [ 2,  3,  4, 11],\n",
      "       [ 3,  4,  5, 12],\n",
      "       [ 2,  3,  9, 12],\n",
      "       [ 3,  4, 10, 13],\n",
      "       [ 3, 10, 12, 15]]), 4: array([[ 2,  3,  4, 11],\n",
      "       [ 3,  4,  5, 12],\n",
      "       [ 4,  5,  6, 13],\n",
      "       [ 3,  4, 10, 13],\n",
      "       [ 4,  5, 11, 14]]), 5: array([[ 3,  4,  5, 12],\n",
      "       [ 4,  5,  6, 13],\n",
      "       [ 5,  6,  7, 14],\n",
      "       [ 4,  5, 11, 14],\n",
      "       [ 5,  6, 12, 15],\n",
      "       [ 5,  9, 12, 14]]), 6: array([[ 4,  5,  6, 13],\n",
      "       [ 5,  6,  7, 14],\n",
      "       [ 6,  7,  8, 15],\n",
      "       [ 5,  6, 12, 15],\n",
      "       [ 6, 10, 13, 15]]), 7: array([[ 5,  6,  7, 14],\n",
      "       [ 6,  7,  8, 15],\n",
      "       [ 7,  8,  9, 14]]), 8: array([[ 6,  7,  8, 15],\n",
      "       [ 1,  2,  8,  9],\n",
      "       [ 7,  8,  9, 14],\n",
      "       [ 1,  8, 10, 15],\n",
      "       [ 8,  9, 12, 15]]), 9: array([[ 1,  2,  8,  9],\n",
      "       [ 2,  3,  9, 12],\n",
      "       [ 7,  8,  9, 14],\n",
      "       [ 2,  9, 11, 14],\n",
      "       [ 5,  9, 12, 14],\n",
      "       [ 8,  9, 12, 15]]), 10: array([[ 1,  2,  3, 10],\n",
      "       [ 3,  4, 10, 13],\n",
      "       [ 1,  8, 10, 15],\n",
      "       [ 3, 10, 12, 15],\n",
      "       [ 6, 10, 13, 15]]), 11: array([[ 2,  3,  4, 11],\n",
      "       [ 4,  5, 11, 14],\n",
      "       [ 2,  9, 11, 14]]), 12: array([[ 3,  4,  5, 12],\n",
      "       [ 2,  3,  9, 12],\n",
      "       [ 5,  6, 12, 15],\n",
      "       [ 3, 10, 12, 15],\n",
      "       [ 5,  9, 12, 14],\n",
      "       [ 8,  9, 12, 15]]), 13: array([[ 4,  5,  6, 13],\n",
      "       [ 3,  4, 10, 13],\n",
      "       [ 6, 10, 13, 15]]), 14: array([[ 5,  6,  7, 14],\n",
      "       [ 4,  5, 11, 14],\n",
      "       [ 7,  8,  9, 14],\n",
      "       [ 2,  9, 11, 14],\n",
      "       [ 5,  9, 12, 14]]), 15: array([[ 6,  7,  8, 15],\n",
      "       [ 5,  6, 12, 15],\n",
      "       [ 1,  8, 10, 15],\n",
      "       [ 3, 10, 12, 15],\n",
      "       [ 6, 10, 13, 15],\n",
      "       [ 8,  9, 12, 15]]), 16: array([], shape=(0, 4), dtype=int32)}\n"
     ]
    }
   ],
   "source": [
    "## Find touched faces\n",
    "currentTouchedFaces = vertexDictOfTouchedFaces[lastVisitedVertex]\n",
    "#print(currentTouchedFaces)\n",
    "\n",
    "\n",
    "## Count all as \"covered\"\n",
    "    ## Add to a set of \"covered faces\"\n",
    "##Needed to set size of array, make sure to remove later!!!!!!!!!!!!!!!!!!!!!!!!\n",
    "##facesToBeAdded = array([[-1,-1,-1,-1]])\n",
    "facesToBeAdded = np.ndarray(shape = (1, len(inputMatrix[0])))\n",
    "facesToBeAdded.fill(-1)\n",
    "facesToBeAdded = facesToBeAdded.astype(int)\n",
    "\n",
    "for x in currentTouchedFaces:\n",
    "    facesToBeAdded = np.vstack([facesToBeAdded, x])\n",
    "\n",
    "#print(facesToBeAdded)\n",
    "\n",
    "masterCoveredFaces = np.vstack([masterCoveredFaces, facesToBeAdded])\n",
    "\n",
    "##Removes the size setting rows\n",
    "removed = (masterCoveredFaces == -1).sum(1)\n",
    "fixed = masterCoveredFaces[removed == 0, :]\n",
    "\n",
    "   \n",
    "masterCoveredFaces = copy.deepcopy(fixed)\n",
    "\n",
    "#print(masterCoveredFaces)\n",
    "\n",
    "\n",
    "\n",
    "## Remove from the current vertex's list of uncovered faces\n",
    "for x in vertexDictOfTouchingUncoveredFaces:\n",
    "    ##make temp\n",
    "    ##tempXTouchingUncovered = array([[-1,-1,-1,-1]])\n",
    "    ##print(tempXTouchingUncovered)\n",
    "    \n",
    "    tempXTouchingUncovered = np.ndarray(shape = (1, len(inputMatrix[0])))\n",
    "    tempXTouchingUncovered.fill(-1)\n",
    "    tempXTouchingUncovered = tempXTouchingUncovered.astype(int)\n",
    "    \n",
    "    \n",
    "    for y in vertexDictOfTouchingUncoveredFaces[x]:\n",
    "        ## make inZ\n",
    "        inZ = False\n",
    "        for z in vertexDictOfTouchedFaces[lastVisitedVertex]:\n",
    "            if np.array_equal(y,z):\n",
    "                #Set inZ to true\n",
    "                inZ = True\n",
    "                #print(\"These are equal\")\n",
    "        ## if not inZ, add to temp\n",
    "        if not inZ:\n",
    "            tempXTouchingUncovered = np.vstack([tempXTouchingUncovered, y])\n",
    "    ## fix temp\n",
    "        #print(tempXTouchingUncovered)\n",
    "        #print(\"Me before fixing: \", tempXTouchingUncovered)\n",
    "        removed = (tempXTouchingUncovered == -1).sum(1)\n",
    "        fixed = tempXTouchingUncovered[removed == 0, :]\n",
    "        #print(x, fixed)\n",
    "        tempXTouchingUncovered = copy.deepcopy(fixed)\n",
    "        \n",
    "    \n",
    "    removed = (tempXTouchingUncovered == -1).sum(1)\n",
    "    fixed = tempXTouchingUncovered[removed == 0, :]\n",
    "    #print(x, fixed)\n",
    "    tempXTouchingUncovered = copy.deepcopy(fixed)\n",
    "        \n",
    "    ## make temp x's uncovered touching\n",
    "    #print(x,tempXTouchingUncovered)\n",
    "    vertexDictOfTouchingUncoveredFaces[x] = copy.deepcopy(tempXTouchingUncovered)\n",
    "    #print(\"this\",vertexDictOfTouchingUncoveredFaces[x])\n",
    "                                       \n",
    "        \n",
    "        \n",
    "print(vertexDictOfTouchingUncoveredFaces)"
   ]
  },
  {
   "cell_type": "markdown",
   "id": "da4f16e7",
   "metadata": {},
   "source": [
    "# Removes faces touched by current vertex from master uncovered array"
   ]
  },
  {
   "cell_type": "code",
   "execution_count": 15,
   "id": "fae67676",
   "metadata": {},
   "outputs": [
    {
     "name": "stdout",
     "output_type": "stream",
     "text": [
      "{1: array([[ 1,  2,  3, 10],\n",
      "       [ 1,  2,  8,  9],\n",
      "       [ 1,  8, 10, 15]]), 2: array([[ 1,  2,  3, 10],\n",
      "       [ 2,  3,  4, 11],\n",
      "       [ 1,  2,  8,  9],\n",
      "       [ 2,  3,  9, 12],\n",
      "       [ 2,  9, 11, 14]]), 3: array([[ 1,  2,  3, 10],\n",
      "       [ 2,  3,  4, 11],\n",
      "       [ 3,  4,  5, 12],\n",
      "       [ 2,  3,  9, 12],\n",
      "       [ 3,  4, 10, 13],\n",
      "       [ 3, 10, 12, 15]]), 4: array([[ 2,  3,  4, 11],\n",
      "       [ 3,  4,  5, 12],\n",
      "       [ 4,  5,  6, 13],\n",
      "       [ 3,  4, 10, 13],\n",
      "       [ 4,  5, 11, 14]]), 5: array([[ 3,  4,  5, 12],\n",
      "       [ 4,  5,  6, 13],\n",
      "       [ 5,  6,  7, 14],\n",
      "       [ 4,  5, 11, 14],\n",
      "       [ 5,  6, 12, 15],\n",
      "       [ 5,  9, 12, 14]]), 6: array([[ 4,  5,  6, 13],\n",
      "       [ 5,  6,  7, 14],\n",
      "       [ 6,  7,  8, 15],\n",
      "       [ 5,  6, 12, 15],\n",
      "       [ 6, 10, 13, 15]]), 7: array([[ 5,  6,  7, 14],\n",
      "       [ 6,  7,  8, 15],\n",
      "       [ 7,  8,  9, 14]]), 8: array([[ 6,  7,  8, 15],\n",
      "       [ 1,  2,  8,  9],\n",
      "       [ 7,  8,  9, 14],\n",
      "       [ 1,  8, 10, 15],\n",
      "       [ 8,  9, 12, 15]]), 9: array([[ 1,  2,  8,  9],\n",
      "       [ 2,  3,  9, 12],\n",
      "       [ 7,  8,  9, 14],\n",
      "       [ 2,  9, 11, 14],\n",
      "       [ 5,  9, 12, 14],\n",
      "       [ 8,  9, 12, 15]]), 10: array([[ 1,  2,  3, 10],\n",
      "       [ 3,  4, 10, 13],\n",
      "       [ 1,  8, 10, 15],\n",
      "       [ 3, 10, 12, 15],\n",
      "       [ 6, 10, 13, 15]]), 11: array([[ 2,  3,  4, 11],\n",
      "       [ 4,  5, 11, 14],\n",
      "       [ 2,  9, 11, 14]]), 12: array([[ 3,  4,  5, 12],\n",
      "       [ 2,  3,  9, 12],\n",
      "       [ 5,  6, 12, 15],\n",
      "       [ 3, 10, 12, 15],\n",
      "       [ 5,  9, 12, 14],\n",
      "       [ 8,  9, 12, 15]]), 13: array([[ 4,  5,  6, 13],\n",
      "       [ 3,  4, 10, 13],\n",
      "       [ 6, 10, 13, 15]]), 14: array([[ 5,  6,  7, 14],\n",
      "       [ 4,  5, 11, 14],\n",
      "       [ 7,  8,  9, 14],\n",
      "       [ 2,  9, 11, 14],\n",
      "       [ 5,  9, 12, 14]]), 15: array([[ 6,  7,  8, 15],\n",
      "       [ 5,  6, 12, 15],\n",
      "       [ 1,  8, 10, 15],\n",
      "       [ 3, 10, 12, 15],\n",
      "       [ 6, 10, 13, 15],\n",
      "       [ 8,  9, 12, 15]]), 16: array([], shape=(0, 4), dtype=int32)}\n",
      "Faces Not Yet Covered\n",
      "[[ 1  2  3 10]\n",
      " [ 2  3  4 11]\n",
      " [ 3  4  5 12]\n",
      " [ 4  5  6 13]\n",
      " [ 5  6  7 14]\n",
      " [ 6  7  8 15]\n",
      " [ 1  2  8  9]\n",
      " [ 2  3  9 12]\n",
      " [ 3  4 10 13]\n",
      " [ 4  5 11 14]\n",
      " [ 5  6 12 15]\n",
      " [ 7  8  9 14]\n",
      " [ 1  8 10 15]\n",
      " [ 2  9 11 14]\n",
      " [ 3 10 12 15]\n",
      " [ 5  9 12 14]\n",
      " [ 6 10 13 15]\n",
      " [ 8  9 12 15]]\n",
      "\n",
      "Faces covered\n",
      "[[ 1  7  8 16]\n",
      " [ 1  2 11 16]\n",
      " [ 6  7 13 16]\n",
      " [ 1 10 13 16]\n",
      " [ 4 11 13 16]\n",
      " [ 7 11 14 16]]\n"
     ]
    }
   ],
   "source": [
    "## Remove touched faces from \"uncovered\" list of faces\n",
    "## Removing is hard when not sure which row location removing from.\n",
    "## Maybe try just rewriting without the covered ones?\n",
    "\n",
    "#tempUncoveredFaces = array([[-1,-1,-1,-1]])\n",
    "tempUncoveredFaces = np.ndarray(shape = (1, len(inputMatrix[0])))\n",
    "tempUncoveredFaces.fill(-1)\n",
    "tempUncoveredFaces = tempUncoveredFaces.astype(int)\n",
    "print(vertexDictOfTouchingUncoveredFaces)\n",
    "\n",
    "for x in masterUncoveredFaces:\n",
    "    inY = False\n",
    "    for y in vertexDictOfTouchedFaces[lastVisitedVertex]:\n",
    "        #print(vertexDictOfTouchedFaces[lastVisitedVertex])\n",
    "        if np.array_equal(x,y):\n",
    "            inY = True\n",
    "    if not inY:\n",
    "        tempUncoveredFaces = np.vstack([tempUncoveredFaces,x])\n",
    "#print(tempUncoveredFaces)\n",
    "\n",
    "removed = (tempUncoveredFaces == -1).sum(1)\n",
    "fixed = tempUncoveredFaces[removed == 0, :]\n",
    "\n",
    "masterUncoveredFaces = copy.deepcopy(fixed)\n",
    "\n",
    "print(\"Faces Not Yet Covered\") \n",
    "print(masterUncoveredFaces)\n",
    "print(\"\")\n",
    "print(\"Faces covered\") \n",
    "print(masterCoveredFaces)\n"
   ]
  },
  {
   "cell_type": "markdown",
   "id": "030f272f",
   "metadata": {},
   "source": [
    "# Find all vertices with highest uncovered faces"
   ]
  },
  {
   "cell_type": "code",
   "execution_count": 16,
   "id": "8f1a65bf",
   "metadata": {},
   "outputs": [
    {
     "name": "stdout",
     "output_type": "stream",
     "text": [
      "[3, 5, 9, 12, 15]\n",
      "3\n",
      "we are calculating\n",
      "The next vertex is 3\n"
     ]
    }
   ],
   "source": [
    "## Finding Next Vertex\n",
    "    ## Find all vertices that touch maximum number of uncovered faces\n",
    "maxUntouched = 0\n",
    "maxUntouchedVerts = []\n",
    "for x in vertexDictOfTouchingUncoveredFaces:\n",
    "    if len(vertexDictOfTouchingUncoveredFaces[x]) > maxUntouched:\n",
    "        maxUntouched = len(vertexDictOfTouchingUncoveredFaces[x])\n",
    "    #print(x, len(vertexDictOfTouchingUncoveredFaces[x]))\n",
    "    #print(\"max \", maxUntouched )\n",
    "    \n",
    "for x in vertexDictOfTouchingUncoveredFaces:\n",
    "    if len(vertexDictOfTouchingUncoveredFaces[x]) == maxUntouched:\n",
    "            maxUntouchedVerts.append(x)\n",
    "print(maxUntouchedVerts)\n",
    "print(maxUntouchedVerts[0])\n",
    "    \n",
    "    \n",
    "    ## Calculate which of vertices in previous step are closest to a covered face \n",
    "if len(maxUntouchedVerts) == 1:\n",
    "    lastVisitedVertex = maxUntouchedVerts[0]\n",
    "elif len(maxUntouchedVerts) == 0:\n",
    "    print(\"SOMETHING IS VERY WRONG HERE, NO MAXIMIZED VERTS\")\n",
    "else:\n",
    "    print(\"we are calculating\")\n",
    "    lastVisitedVertex = findNextVertex(maxUntouchedVerts)\n",
    "    \n",
    "    \n",
    "print(\"The next vertex is\" , lastVisitedVertex)"
   ]
  },
  {
   "cell_type": "markdown",
   "id": "7563f923",
   "metadata": {},
   "source": [
    "# Check if all faces covered, if yes, print out solution, covered and uncovered"
   ]
  },
  {
   "cell_type": "code",
   "execution_count": 17,
   "id": "ebfe3cde",
   "metadata": {},
   "outputs": [
    {
     "name": "stdout",
     "output_type": "stream",
     "text": [
      "False\n",
      "3\n"
     ]
    }
   ],
   "source": [
    "## Check if all faces covered\n",
    "print(np.array_equal(inputMatrix, masterCoveredFaces))\n",
    "\n",
    "## If yes, output list of vertices as solution\n",
    "## Covered face must be 1 version of all, and uncovered must be empty\n",
    "if np.array_equal(inputMatrix, masterCoveredFaces) and len(masterUncoveredFaces) == 0:\n",
    "    print(\"Solution Set\")\n",
    "    print(solutionVertices)\n",
    "    print(len(solutionVertices), \" vertices in solution set\")\n",
    "    print( \" \")\n",
    "    print(\"Uncoverd faces\")\n",
    "    print(masterUncoveredFaces)\n",
    "    print( \" \")\n",
    "    print(\"Covered Faces\")\n",
    "    print(masterCoveredFaces)\n",
    "\n",
    "else:\n",
    "    lastVisitedVertex = findNextVertex(maxUntouchedVerts)\n",
    "\n",
    "\n",
    "    \n",
    "print(lastVisitedVertex)\n",
    "    ## If no, select next Vertex"
   ]
  },
  {
   "cell_type": "code",
   "execution_count": null,
   "id": "fbef86d4",
   "metadata": {},
   "outputs": [],
   "source": []
  }
 ],
 "metadata": {
  "kernelspec": {
   "display_name": "Python 3",
   "language": "python",
   "name": "python3"
  },
  "language_info": {
   "codemirror_mode": {
    "name": "ipython",
    "version": 3
   },
   "file_extension": ".py",
   "mimetype": "text/x-python",
   "name": "python",
   "nbconvert_exporter": "python",
   "pygments_lexer": "ipython3",
   "version": "3.8.8"
  }
 },
 "nbformat": 4,
 "nbformat_minor": 5
}
