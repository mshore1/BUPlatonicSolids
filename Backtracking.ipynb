{
 "cells": [
  {
   "cell_type": "code",
   "execution_count": 1,
   "metadata": {},
   "outputs": [],
   "source": [
    "from os.path import exists\n",
    "from itertools import combinations\n",
    "import csv\n",
    "import time\n"
   ]
  },
  {
   "cell_type": "code",
   "execution_count": 10,
   "metadata": {},
   "outputs": [],
   "source": [
    "# Import the data and do preprocessing"
   ]
  },
  {
   "cell_type": "code",
   "execution_count": 11,
   "metadata": {},
   "outputs": [
    {
     "name": "stdout",
     "output_type": "stream",
     "text": [
      "Filepath to import\n",
      "sixhundredcell_3_corrected.csv\n",
      "File Loaded\n"
     ]
    }
   ],
   "source": [
    "debugMain = False\n",
    "#build lists for untouchedNodes()\n",
    "listOfFacetConnections = []\n",
    "listOfNodeConnections= []\n",
    "\n",
    "#replace with whatever it needs to be\n",
    "\n",
    "maxNodes = 48 #aka max depth?\n",
    "maxNumOfConnections = 0\n",
    "numNodes = 0\n",
    "numFaces = 0\n",
    "setOfFirst24Connections = set()\n",
    "completeSetOfFaces = set()\n",
    "\n",
    "# use this as main?\n",
    "# grab shape file and import\n",
    "flag = True\n",
    "while flag:\n",
    "    print(\"Filepath to import\")\n",
    "    filePath = input()\n",
    "    if exists(filePath):\n",
    "        with open(filePath, newline='') as file:\n",
    "            reader = csv.reader(file)\n",
    "            data = list(reader)\n",
    "            for row in range(len(data)):\n",
    "                listOfFacetConnections.append(set())\n",
    "                for col in range(len(data[0])):\n",
    "                    listOfFacetConnections[-1].add(int(data[row][col]))\n",
    "                if len(listOfFacetConnections[-1]) > maxNumOfConnections:\n",
    "                    maxNumOfConnections = len(listOfFacetConnections[-1])\n",
    "            #print(listOfSets)\n",
    "            if debugMain:\n",
    "                print(\"maxNumOfConnections:\", maxNumOfConnections)\n",
    "            flag = False\n",
    "            print(\"File Loaded\")\n",
    "            break\n",
    "    else:\n",
    "        print(\"Sorry, could not find that file\")\n",
    "\n",
    "#build additional preprocessing info\n",
    "tempSet = set()\n",
    "for i in listOfFacetConnections:\n",
    "    tempSet.update(i)\n",
    "numNodes = len(tempSet) #this shouldn't be different than len(listOfSets now that I think about it? unsure.)\n",
    "\n",
    "numFaces = len(listOfFacetConnections)\n",
    "for i in range(numNodes):\n",
    "    listOfNodeConnections.append(set())\n",
    "    \n",
    "for i in range(len(listOfFacetConnections)):\n",
    "    completeSetOfFaces.add(i+1) #offset by one because of our dataset\n",
    "    \n",
    "for face in range(len(listOfFacetConnections)):\n",
    "    for node in listOfFacetConnections[face]:\n",
    "        listOfNodeConnections[node-1].add(face+1)\n",
    "\n",
    "if debugMain:\n",
    "    print(len(completeSetOfFaces))\n",
    "    print(completeSetOfFaces)\n",
    "    print(len(listOfNodeConnections))\n",
    "    print(listOfNodeConnections)\n",
    "\n",
    "for i in range(24):\n",
    "    setOfFirst24Connections.update(listOfNodeConnections[i])\n",
    "    "
   ]
  },
  {
   "cell_type": "code",
   "execution_count": null,
   "metadata": {},
   "outputs": [],
   "source": [
    "sixhundredcell_3_corrected.csv"
   ]
  },
  {
   "cell_type": "code",
   "execution_count": null,
   "metadata": {},
   "outputs": [],
   "source": [
    "# Functions "
   ]
  },
  {
   "cell_type": "code",
   "execution_count": 12,
   "metadata": {},
   "outputs": [],
   "source": [
    "# This function takes an input set, a number of nodes to remove, and a number of nodes to put back, and tries all possible solutions\n",
    "# in that given space. (If smart is false, but if smart is true, it only checks solutions that have nodes that connect to untouched \n",
    "# Facets, but still checks all of those)\n",
    "def Backtrack(inputSet, numNodesToRemove, numReplacements = None, smart = True, override = False):\n",
    "    # Basically, if not overriding this if statement, and your trying to do a smart, while removing 1 node,\n",
    "    # Reason: I don't understand why, but the specific combo of smart and 1,1 leads to about 1/8th the outputs\n",
    "    # as dumb output, and given that it takes less than a second on my bad PC, I think its a fine tradeoff in this specific situation\n",
    "    if not override and smart and numNodesToRemove == 1 and numReplacements == 1:\n",
    "        smart = False\n",
    "    output = []\n",
    "    if numReplacements == None:\n",
    "        numReplacements = numNodesToRemove-1\n",
    "    \n",
    "    # cycle through all possible sets of nodes to remove\n",
    "    for removedNodes in combinations(inputSet, numNodesToRemove):\n",
    "        trialSet = inputSet.difference(removedNodes)\n",
    "        \n",
    "        #if smart, only pull replacements from nodes adj to missing faces\n",
    "        if smart:        \n",
    "            untouchedFaces = UntouchedFacets(trialSet)\n",
    "            possibleReplacementNodes = FacetConnections(untouchedFaces)\n",
    "        else:\n",
    "            possibleReplacementNodes = fullSetOfNodes.difference(trialSet)\n",
    "        \n",
    "        # cycle through all possible replacements, (limited by numReplacements)\n",
    "        # will be ran once with () as the subcombo if numreplacements == 0\n",
    "        # This can be used for seeing if a single node (or set of nodes) can be dropped without losing any coverage\n",
    "        for replacementNodes in combinations(possibleReplacementNodes, numReplacements): \n",
    "            if UntouchedFacets(trialSet.union(replacementNodes), setOutput = False) == 0:\n",
    "                temp = trialSet.union(replacementNodes)\n",
    "                flag = True\n",
    "                for extantSolution in output:\n",
    "                    if extantSolution.difference(temp) == set():\n",
    "                        flag = False\n",
    "                if flag:\n",
    "                    output.append(temp)\n",
    "                    #print(\"Solution:\", output[-1])\n",
    "                    \n",
    "    return output\n",
    "\n",
    "\n",
    "# Basically, this function will repeat the same Backtrack call on the results of the backtrack. This may be ideal to work down larger \n",
    "# solutions since doing even a 3-1 replacement takes a decent chunk of time, and any number greater than that starts to get crazy\n",
    "# so by chaining 2 2-1 replacements, in effect, we can achieve a result similar to 3-1 in a much shorter timeframe (with wider solution \n",
    "# options aswell)\n",
    "def chainBacktrack(inputSet, numNodesToRemove, numReplacements = None, smart = True, override = False):\n",
    "    if(numNodesToRemove == numReplacements):\n",
    "        print(\"Oh no! That'd cause an infinite loop. Try doing that but with Backtrack() instead\")\n",
    "        return\n",
    "    \n",
    "    results = Backtrack(inputSet, numNodesToRemove, numReplacements, smart, override)\n",
    "    if results != []:\n",
    "        temp = [] #new output\n",
    "        for solution in results: \n",
    "            temp2 = chainBacktrack(solution, numNodesToRemove, numReplacements, smart, override)\n",
    "            for i in temp2:\n",
    "                temp.append(i)\n",
    "                \n",
    "        if temp != []:\n",
    "            #print(\"hey\", temp)\n",
    "            return temp\n",
    "    return results\n",
    "\n",
    "\n",
    "# inputSet is a set of nodes, cheat auto adds the first 24 nodes, offset shifts all the values in inputSet down by one to work with the\n",
    "# list properly, and setOutput changes the output from a number to a set of facets.\n",
    "# if this returns 0, inputSet is a solution\n",
    "# otherwise returns the number of faces not covered, OR if setOutput is true, the facets that are untouched\n",
    "def UntouchedFacets(inputSet, cheat = False, offset = True, setOutput = True):\n",
    "    #constructs a set of faces that the input nodes connect to, and checks that against completeSetOfFaces\n",
    "    solutionSet = set()\n",
    "    if cheat:\n",
    "        solutionSet = setOfFirst24Connections.copy() ##TODO make sure this is equivalent to adding [1,24]\n",
    "        \n",
    "    # add the facets connecting to the set in inputSet\n",
    "    for i in inputSet:\n",
    "        try:\n",
    "            solutionSet.update(listOfNodeConnections[i - offset])\n",
    "        except:\n",
    "            print(\"data probably didn't import properly\", i) \n",
    "            \n",
    "    #len comparison is obviously much faster, but smart algo needs the set of facets that are untouched\n",
    "    #so this is used instead of copying code\n",
    "    if setOutput:\n",
    "        return completeSetOfFaces.difference(solutionSet) \n",
    "    return len(completeSetOfFaces) - len(solutionSet)\n",
    "    \n",
    "\n",
    "\n",
    "def FacetConnections(inputSet, exclusive = True, offset = True):\n",
    "    output = set()\n",
    "    for facet in inputSet:\n",
    "        output.update(listOfFacetConnections[facet - offset])\n",
    "    #if exclusive:\n",
    "    #    output = output.difference(inputSet)\n",
    "    return output"
   ]
  },
  {
   "cell_type": "code",
   "execution_count": null,
   "metadata": {},
   "outputs": [],
   "source": [
    "# Function call / Testing area"
   ]
  },
  {
   "cell_type": "code",
   "execution_count": 15,
   "metadata": {},
   "outputs": [
    {
     "name": "stdout",
     "output_type": "stream",
     "text": [
      "1\n",
      "[{1, 2, 3, 4, 5, 6, 7, 8, 9, 10, 11, 12, 13, 14, 15, 16, 17, 18, 19, 20, 21, 22, 23, 24, 26, 32, 34, 37, 42, 43, 51, 55, 56, 65, 66, 69, 75, 77, 81, 87, 95, 96, 97, 106, 107, 109, 114, 119}]\n",
      "hey [{1, 2, 3, 4, 5, 6, 7, 8, 9, 10, 11, 12, 13, 14, 15, 16, 17, 18, 19, 20, 21, 22, 23, 24, 26, 32, 34, 37, 42, 43, 51, 55, 56, 65, 66, 69, 75, 77, 81, 87, 95, 96, 97, 106, 107, 109, 114, 119}, {1, 2, 3, 4, 5, 6, 7, 8, 9, 10, 11, 12, 13, 14, 15, 16, 17, 18, 19, 20, 21, 22, 23, 24, 26, 32, 34, 37, 42, 43, 51, 55, 56, 65, 66, 69, 75, 77, 81, 87, 95, 96, 97, 106, 107, 109, 114, 119}]\n",
      "length of starting set 50\n",
      "length of output sets 48\n"
     ]
    }
   ],
   "source": [
    "# Probably faster, but I think it wont hit as many solutions\n",
    "chainTestingSet = set(list(range(1,25)))\n",
    "chainTestingSet.update([55, 56, 43, 42, 95, 106, 77, 81, 75, 66, 69, 87, 65, 109, 34, 37, 97, 51, 32, 114, 119, 107, 96, 26, 120, 118])\n",
    "print(len(Backtrack(chainTestingSet.difference([120]), 1)))\n",
    "print(Backtrack(chainTestingSet.difference([120]),1 ))\n",
    "\n",
    "chainTestingOutput = chainBacktrack(chainTestingSet, 2, 1)\n",
    "#print(chainTestingOutput)\n",
    "print(\"length of starting set\", len(chainTestingSet))\n",
    "print(\"length of output sets\", len(chainTestingOutput[0]))\n",
    "\n",
    "#testA = set([1, 2, 3, 4, 5, 6, 7, 8, 9, 10, 11, 12, 13, 14, 15, 16, 17, 18, 19, 20, 21, 22, 23, 24, 26, 32, 34, 37, 42, 43, 51, 55, 56, 65, 66, 69, 75, 77, 81, 87, 95, 96, 97, 106, 107, 109, 114, 118, 119])\n",
    "#print(Backtrack(testA, 1))"
   ]
  },
  {
   "cell_type": "code",
   "execution_count": 16,
   "metadata": {},
   "outputs": [
    {
     "name": "stdout",
     "output_type": "stream",
     "text": [
      "Initial set {1, 2, 3, 4, 5, 6, 7, 8, 9, 10, 11, 12, 13, 14, 15, 16, 17, 18, 19, 20, 21, 22, 23, 24, 27, 30, 35, 36, 38, 40, 41, 47, 52, 59, 60, 64, 70, 72, 73, 78, 82, 89, 91, 92, 98, 101, 103, 108, 113, 115, 120} \n",
      "Length 51\n",
      "DumbBacktrack Runtime:  0.1759648323059082\n",
      "SmartBacktrack Runtime: 0.08504223823547363\n",
      "DumbBacktrack Solutions: 80\n",
      "SmartBacktrack Solutions: 80\n",
      "Solution Length: 51\n"
     ]
    }
   ],
   "source": [
    "fullSetOfNodes = set(range(1, 121))\n",
    "tempbadset = set(list(range(1,25)))\n",
    "tempbadset.update([64, 60, 108, 38, 101, 59, 115, 41, 73, 27, 103, 72, 82, 52, 30, 78, 120, 98, 89, 92, 91, 70, 35, 113, 36, 40, 47])\n",
    "print(\"Initial set\", tempbadset, \"\\nLength\", len(tempbadset))\n",
    "\n",
    "nodesToRemove = 1\n",
    "nodesToReplace = 1\n",
    "tic = time.time()\n",
    "dumbResult = Backtrack(tempbadset, nodesToRemove, numReplacements = nodesToReplace, smart = False)\n",
    "#print(dumbResult)\n",
    "toc = time.time()\n",
    "print(\"DumbBacktrack Runtime: \", toc-tic)\n",
    "\n",
    "tic = time.time()\n",
    "smartResult = Backtrack(tempbadset, nodesToRemove, numReplacements = nodesToReplace, smart =  True)\n",
    "#print(smartResult)\n",
    "toc = time.time()\n",
    "print(\"SmartBacktrack Runtime:\", toc-tic)\n",
    "\n",
    "print(\"DumbBacktrack Solutions:\", len(dumbResult))\n",
    "#print(dumbResult)\n",
    "print(\"SmartBacktrack Solutions:\", len(smartResult))\n",
    "#print(smartResult)\n",
    "\n",
    "#if they're different lengths, print out how many duplicates there are\n",
    "if len(dumbResult) != len(smartResult):\n",
    "    counter = 1\n",
    "    for i in dumbResult:\n",
    "        flag = True\n",
    "        for j in smartResult:\n",
    "            if i.difference(j) == set():\n",
    "                print(\"Duplicate:\", counter)\n",
    "                #print i\n",
    "                counter += 1\n",
    "                flag = False\n",
    "        if flag:\n",
    "            print(i)\n",
    "        \n",
    "print(\"Solution Length:\", len(dumbResult[0]))"
   ]
  },
  {
   "cell_type": "code",
   "execution_count": null,
   "metadata": {},
   "outputs": [],
   "source": []
  },
  {
   "cell_type": "code",
   "execution_count": 8,
   "metadata": {},
   "outputs": [
    {
     "name": "stdout",
     "output_type": "stream",
     "text": [
      "51\n",
      "0.13599133491516113\n",
      "0.0030007362365722656\n"
     ]
    }
   ],
   "source": [
    "#just testing speed of different comparisons\n",
    "print(len(dumbResult[0]))\n",
    "\n",
    "completeSetOfFaces2 = completeSetOfFaces.copy()\n",
    "tic = time.time()\n",
    "for i in range(10000):\n",
    "    temptest = completeSetOfFaces.difference(completeSetOfFaces2)\n",
    "toc = time.time()\n",
    "print(toc-tic)\n",
    "\n",
    "tic = time.time()\n",
    "for i in range(10000):\n",
    "    temptest = len(completeSetOfFaces) - len(completeSetOfFaces2)\n",
    "toc = time.time()\n",
    "print(toc-tic)"
   ]
  },
  {
   "cell_type": "code",
   "execution_count": null,
   "metadata": {},
   "outputs": [],
   "source": []
  },
  {
   "cell_type": "code",
   "execution_count": 9,
   "metadata": {},
   "outputs": [
    {
     "name": "stdout",
     "output_type": "stream",
     "text": [
      "Filepath to import\n",
      "sixhundredcell_3_corrected.csv\n",
      "File Loaded\n"
     ]
    }
   ],
   "source": []
  },
  {
   "cell_type": "code",
   "execution_count": null,
   "metadata": {},
   "outputs": [],
   "source": []
  },
  {
   "cell_type": "code",
   "execution_count": 6,
   "metadata": {},
   "outputs": [],
   "source": [
    "#print(numNodes)\n",
    "#print(tempSet)\n",
    "#print(len(listOfFacetConnections))\n",
    "#print(listOfFacetConnections)"
   ]
  },
  {
   "cell_type": "code",
   "execution_count": null,
   "metadata": {},
   "outputs": [],
   "source": []
  }
 ],
 "metadata": {
  "kernelspec": {
   "display_name": "Python 3",
   "language": "python",
   "name": "python3"
  },
  "language_info": {
   "codemirror_mode": {
    "name": "ipython",
    "version": 3
   },
   "file_extension": ".py",
   "mimetype": "text/x-python",
   "name": "python",
   "nbconvert_exporter": "python",
   "pygments_lexer": "ipython3",
   "version": "3.6.5"
  }
 },
 "nbformat": 4,
 "nbformat_minor": 2
}
