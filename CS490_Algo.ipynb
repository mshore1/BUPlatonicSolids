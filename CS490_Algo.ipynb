{
 "cells": [
  {
   "cell_type": "code",
   "execution_count": null,
   "metadata": {},
   "outputs": [],
   "source": [
    "import random"
   ]
  },
  {
   "cell_type": "code",
   "execution_count": null,
   "metadata": {},
   "outputs": [],
   "source": [
    "## Open file \n",
    "file = open(\"sixhundredcell_3_corrected_usethis.txt\")"
   ]
  },
  {
   "cell_type": "code",
   "execution_count": null,
   "metadata": {},
   "outputs": [],
   "source": [
    "data = file.readlines()\n",
    "clean_data = [i.rstrip() for i in data]"
   ]
  },
  {
   "cell_type": "code",
   "execution_count": null,
   "metadata": {},
   "outputs": [],
   "source": [
    "## Split data on comma, ignore last value of list since empty string\n",
    "cleaner_data = [i.split(\",\")[:-1:] for i in clean_data]"
   ]
  },
  {
   "cell_type": "code",
   "execution_count": null,
   "metadata": {},
   "outputs": [],
   "source": [
    "## Check data format for sanity\n",
    "cleaner_data[0]"
   ]
  },
  {
   "cell_type": "code",
   "execution_count": null,
   "metadata": {},
   "outputs": [],
   "source": [
    "## Cast to ints instead of strings per Dr. B's request\n",
    "int_clean_data = []\n",
    "for lst in cleaner_data:\n",
    "    int_clean_data.append([int(i) for i in lst])\n",
    "int_clean_data\n",
    "\n",
    "## get rid of empty lists in the nested list\n",
    "best_data = [i for i in int_clean_data if i!=[]]"
   ]
  },
  {
   "cell_type": "code",
   "execution_count": null,
   "metadata": {},
   "outputs": [],
   "source": [
    "## Length should be 600 after cleaning\n",
    "len(best_data)"
   ]
  },
  {
   "cell_type": "code",
   "execution_count": null,
   "metadata": {},
   "outputs": [],
   "source": [
    "## Utility function to determine if element is in a list\n",
    "def is_in(element,lst):\n",
    "    return element in lst"
   ]
  },
  {
   "cell_type": "code",
   "execution_count": null,
   "metadata": {},
   "outputs": [],
   "source": [
    "def calculate_cover_set(data_in,initial_start=None,random_tie_breaker=False):\n",
    "    ''' \n",
    "    Calculate a cover set in adherence with our capstone project\n",
    "    This is most likely not optimal, and should be improved\n",
    "\n",
    "            Parameters:\n",
    "                    data_in (list): a list of data representing our shape\n",
    "                    initial_start (int): The vertex to start with, defaults to a random value if not inputted\n",
    "                    random_tie_breaker (bool): Determine if ties are broken randomly by choosing the \n",
    "\n",
    "            Returns:\n",
    "                    sol_set (set): A set containing the vertices that form a cover of the shape\n",
    "                    \n",
    "    '''\n",
    "    ## Deep copy all lists to avoid shallow copy issues\n",
    "    data = [x[:] for x in data_in]\n",
    "    if initial_start is None:\n",
    "        start = random.randint(1,120)\n",
    "    else:\n",
    "        start = initial_start\n",
    "    sol_set = set()\n",
    "    \n",
    "    ## Loop \n",
    "    while len(data) > 0:    \n",
    "        ## Dictionary contains vertices we can examine\n",
    "        dic = {}\n",
    "        ## sol_set is our solution set for the problem, this should form a cover\n",
    "        sol_set.add(start)\n",
    "        ## List Comp that removes all rows that contain the starting vertex\n",
    "        ## Each loop iteration the start vertex is changed, hence the data eventually becomes an empty list\n",
    "        elements_to_remove = [i for i in data if is_in(start,i)]\n",
    "        \n",
    "        for row_to_del in elements_to_remove:\n",
    "             data.remove(row_to_del)\n",
    "        \n",
    "        dic = {}\n",
    "        \n",
    "        ## Room for performance exhancement here - perhaps import counter and see if faster?\n",
    "        ## Keep track of how many lines a vertex appears in\n",
    "        for row in data:\n",
    "            for element in row:\n",
    "                if element in dic:\n",
    "                    dic[element]+=1\n",
    "                else:\n",
    "                    dic[element]=1\n",
    "                    \n",
    "        ## Find the most commonly occuring vertices by sorting\n",
    "        sorted_dic_value = sorted(dic.items(),key=lambda x: x[1],reverse=True)\n",
    "        ## List comp that gives us a list of vertices that are tied for the most commonly occuring vertex\n",
    "        ## Worst case scenario there is only a singular vertex\n",
    "        tied_idx = [i[0] for i in sorted_dic_value if i[1]==sorted_dic_value[0][1]]\n",
    "        \n",
    "        ## If we have no vertices in the list, our data is empty return with solution set\n",
    "        if tied_idx == []:\n",
    "            return sol_set\n",
    "        \n",
    "        ## If True choose a random vertex from all tied vertices\n",
    "        if random_tie_breaker == True:\n",
    "            start = tied_idx[random.randrange(0,len(tied_idx))]\n",
    "        ## If false default to the one that is in the front of the list\n",
    "        else:\n",
    "            start = tied_idx[0]\n",
    "    return sol_set"
   ]
  },
  {
   "cell_type": "code",
   "execution_count": null,
   "metadata": {},
   "outputs": [],
   "source": [
    "## If you need a refresher of what we are doing\n",
    "help(calculate_cover_set)"
   ]
  },
  {
   "cell_type": "code",
   "execution_count": null,
   "metadata": {},
   "outputs": [],
   "source": [
    "lengths = set()\n",
    "\n",
    "import time\n",
    "tic = time.time()\n",
    "dct = {}\n",
    "\n",
    "runs = 1500\n",
    "for i in range(1,runs):\n",
    "    result = calculate_cover_set(trimmed_best_data,random_tie_breaker=True)\n",
    "    if len(result) in dct:\n",
    "        dct[len(result)].append(result)\n",
    "    else:\n",
    "        dct[len(result)]=[result]\n",
    "\n",
    "toc = time.time()\n",
    "print(\"Time for\",runs,\":\",toc-tic)\n",
    "print(\"Average run time:\",(toc-tic)/runs)"
   ]
  },
  {
   "cell_type": "code",
   "execution_count": null,
   "metadata": {
    "scrolled": true
   },
   "outputs": [],
   "source": [
    "for i in zip(dct.keys(),[len(i) for i in dct.values()]):\n",
    "    print(i[0]+24,i[1])"
   ]
  },
  {
   "cell_type": "code",
   "execution_count": null,
   "metadata": {},
   "outputs": [],
   "source": [
    "## Leaving this hacky-ass line of code in because it made everyone's day on Thursday\n",
    "## Remove it when you feel comfortable not needing it haha\n",
    "set(list(range(1,25))).union(dct[25][0])"
   ]
  }
 ],
 "metadata": {
  "kernelspec": {
   "display_name": "Python 3",
   "language": "python",
   "name": "python3"
  },
  "language_info": {
   "codemirror_mode": {
    "name": "ipython",
    "version": 3
   },
   "file_extension": ".py",
   "mimetype": "text/x-python",
   "name": "python",
   "nbconvert_exporter": "python",
   "pygments_lexer": "ipython3",
   "version": "3.8.3"
  }
 },
 "nbformat": 4,
 "nbformat_minor": 4
}
